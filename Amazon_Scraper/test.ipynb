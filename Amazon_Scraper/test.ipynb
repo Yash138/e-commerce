{
 "cells": [
  {
   "cell_type": "code",
   "execution_count": 1,
   "metadata": {},
   "outputs": [],
   "source": [
    "import json\n",
    "import pprint"
   ]
  },
  {
   "cell_type": "code",
   "execution_count": 3,
   "metadata": {},
   "outputs": [],
   "source": [
    "with open(\".json/lc_pages.json\") as f:\n",
    "    data = json.load(f)"
   ]
  },
  {
   "cell_type": "code",
   "execution_count": 6,
   "metadata": {},
   "outputs": [
    {
     "name": "stdout",
     "output_type": "stream",
     "text": [
      "516\n",
      "{'category': 'apparel', 'subcategory': '1968073031', 'avg_rating': '3.90', 'avg_sales_qty': '7000', 'total_pages': 209}\n"
     ]
    }
   ],
   "source": [
    "print(len(data))\n",
    "print(data[0])"
   ]
  },
  {
   "cell_type": "code",
   "execution_count": 7,
   "metadata": {},
   "outputs": [],
   "source": [
    "# import asyncio\n",
    "from helpers.utils import extract_paths\n",
    "from helpers.db_postgres_handler import AsyncPostgresDBHandler, PostgresDBHandler \n",
    "from settings import POSTGRES_HOST, POSTGRES_DATABASE, POSTGRES_USERNAME, POSTGRES_PASSWORD, POSTGRES_PORT"
   ]
  },
  {
   "cell_type": "code",
   "execution_count": null,
   "metadata": {},
   "outputs": [],
   "source": [
    "async def main(batch_size=10):\n",
    "    items = list()\n",
    "    db = AsyncPostgresDBHandler(POSTGRES_HOST, POSTGRES_DATABASE, POSTGRES_USERNAME, POSTGRES_PASSWORD, POSTGRES_PORT)\n",
    "    await db.connect()\n",
    "    keys = list()\n",
    "    for d in data:\n",
    "        items.append(d)\n",
    "        if len(items) >= batch_size:\n",
    "            await db.bulk_upsert('staging.stg__dummy', items, conflict_columns=['category', 'sub_category'])\n",
    "            items = list()\n",
    "    await db.close()\n",
    "    "
   ]
  },
  {
   "cell_type": "code",
   "execution_count": 24,
   "metadata": {},
   "outputs": [],
   "source": [
    "# pprint.pprint(data)\n",
    "db.close()"
   ]
  },
  {
   "cell_type": "code",
   "execution_count": 15,
   "metadata": {},
   "outputs": [],
   "source": [
    "import pandas as pd\n",
    "import json"
   ]
  },
  {
   "cell_type": "code",
   "execution_count": 54,
   "metadata": {},
   "outputs": [],
   "source": []
  },
  {
   "cell_type": "code",
   "execution_count": 66,
   "metadata": {},
   "outputs": [
    {
     "data": {
      "text/html": [
       "<div>\n",
       "<style scoped>\n",
       "    .dataframe tbody tr th:only-of-type {\n",
       "        vertical-align: middle;\n",
       "    }\n",
       "\n",
       "    .dataframe tbody tr th {\n",
       "        vertical-align: top;\n",
       "    }\n",
       "\n",
       "    .dataframe thead th {\n",
       "        text-align: right;\n",
       "    }\n",
       "</style>\n",
       "<table border=\"1\" class=\"dataframe\">\n",
       "  <thead>\n",
       "    <tr style=\"text-align: right;\">\n",
       "      <th></th>\n",
       "      <th>category</th>\n",
       "      <th>lvl1</th>\n",
       "      <th>lvl2</th>\n",
       "      <th>lvl3</th>\n",
       "      <th>lvl4</th>\n",
       "      <th>lvl5</th>\n",
       "      <th>lvl6</th>\n",
       "      <th>lvl7</th>\n",
       "      <th>lvl8</th>\n",
       "      <th>data_node</th>\n",
       "    </tr>\n",
       "  </thead>\n",
       "  <tbody>\n",
       "    <tr>\n",
       "      <th>13607</th>\n",
       "      <td>office</td>\n",
       "      <td>3591019031</td>\n",
       "      <td>3591063031</td>\n",
       "      <td>15759997031</td>\n",
       "      <td>3591014031</td>\n",
       "      <td>3591546031</td>\n",
       "      <td>3591552031</td>\n",
       "      <td>3591084031</td>\n",
       "      <td>3591270031</td>\n",
       "      <td>3591270031</td>\n",
       "    </tr>\n",
       "    <tr>\n",
       "      <th>13608</th>\n",
       "      <td>office</td>\n",
       "      <td>3591019031</td>\n",
       "      <td>3591063031</td>\n",
       "      <td>15759997031</td>\n",
       "      <td>3591014031</td>\n",
       "      <td>3591546031</td>\n",
       "      <td>3591552031</td>\n",
       "      <td>3591084031</td>\n",
       "      <td>3591272031</td>\n",
       "      <td>3591272031</td>\n",
       "    </tr>\n",
       "    <tr>\n",
       "      <th>13609</th>\n",
       "      <td>office</td>\n",
       "      <td>3591019031</td>\n",
       "      <td>3591063031</td>\n",
       "      <td>15759997031</td>\n",
       "      <td>3591014031</td>\n",
       "      <td>3591546031</td>\n",
       "      <td>3591552031</td>\n",
       "      <td>3591084031</td>\n",
       "      <td>3591273031</td>\n",
       "      <td>3591273031</td>\n",
       "    </tr>\n",
       "  </tbody>\n",
       "</table>\n",
       "</div>"
      ],
      "text/plain": [
       "      category        lvl1        lvl2         lvl3        lvl4        lvl5  \\\n",
       "13607   office  3591019031  3591063031  15759997031  3591014031  3591546031   \n",
       "13608   office  3591019031  3591063031  15759997031  3591014031  3591546031   \n",
       "13609   office  3591019031  3591063031  15759997031  3591014031  3591546031   \n",
       "\n",
       "             lvl6        lvl7        lvl8   data_node  \n",
       "13607  3591552031  3591084031  3591270031  3591270031  \n",
       "13608  3591552031  3591084031  3591272031  3591272031  \n",
       "13609  3591552031  3591084031  3591273031  3591273031  "
      ]
     },
     "execution_count": 66,
     "metadata": {},
     "output_type": "execute_result"
    }
   ],
   "source": [
    "paths = []\n",
    "with open('.json/categories_mapping3.json') as f:\n",
    "    data = json.load(f)\n",
    "output = extract_paths(data)\n",
    "df = pd.DataFrame(output)\n",
    "# filter out rows where lvl8 is None\n",
    "df[df['lvl8'].notna()]\n"
   ]
  },
  {
   "cell_type": "code",
   "execution_count": 29,
   "metadata": {},
   "outputs": [
    {
     "data": {
      "text/plain": [
       "[['watches', '5518819031', '5518821031'],\n",
       " ['watches', '5518819031', '5518820031'],\n",
       " ['watches', '5518819031'],\n",
       " ['watches', '2563504031', '15723938031'],\n",
       " ['watches', '2563504031', '15723937031'],\n",
       " ['watches', '2563504031'],\n",
       " ['watches', '2563505031', '15723942031'],\n",
       " ['watches', '2563505031', '15723939031'],\n",
       " ['watches', '2563505031', '15723941031'],\n",
       " ['watches', '2563505031']]"
      ]
     },
     "execution_count": 29,
     "metadata": {},
     "output_type": "execute_result"
    }
   ],
   "source": [
    "paths[-10:]"
   ]
  },
  {
   "cell_type": "code",
   "execution_count": 25,
   "metadata": {},
   "outputs": [
    {
     "ename": "ValueError",
     "evalue": "max() iterable argument is empty",
     "output_type": "error",
     "traceback": [
      "\u001b[1;31m---------------------------------------------------------------------------\u001b[0m",
      "\u001b[1;31mValueError\u001b[0m                                Traceback (most recent call last)",
      "Cell \u001b[1;32mIn[25], line 1\u001b[0m\n\u001b[1;32m----> 1\u001b[0m data_dict \u001b[38;5;241m=\u001b[39m extract_paths(data)\n",
      "Cell \u001b[1;32mIn[23], line 46\u001b[0m, in \u001b[0;36mextract_paths\u001b[1;34m(data)\u001b[0m\n\u001b[0;32m     43\u001b[0m             output\u001b[38;5;241m.\u001b[39mextend(paths)\n\u001b[0;32m     45\u001b[0m \u001b[38;5;66;03m# Create DataFrame with dynamic column count\u001b[39;00m\n\u001b[1;32m---> 46\u001b[0m max_depth \u001b[38;5;241m=\u001b[39m \u001b[38;5;28mmax\u001b[39m(\u001b[38;5;28mlen\u001b[39m(path) \u001b[38;5;28;01mfor\u001b[39;00m path \u001b[38;5;129;01min\u001b[39;00m output)\n\u001b[0;32m     47\u001b[0m columns \u001b[38;5;241m=\u001b[39m [\u001b[38;5;124m'\u001b[39m\u001b[38;5;124mcategory\u001b[39m\u001b[38;5;124m'\u001b[39m] \u001b[38;5;241m+\u001b[39m [\u001b[38;5;124mf\u001b[39m\u001b[38;5;124m'\u001b[39m\u001b[38;5;124mlvl\u001b[39m\u001b[38;5;132;01m{\u001b[39;00mi\u001b[38;5;132;01m}\u001b[39;00m\u001b[38;5;124m'\u001b[39m \u001b[38;5;28;01mfor\u001b[39;00m i \u001b[38;5;129;01min\u001b[39;00m \u001b[38;5;28mrange\u001b[39m(\u001b[38;5;241m1\u001b[39m, max_depth)]\n\u001b[0;32m     49\u001b[0m df \u001b[38;5;241m=\u001b[39m pd\u001b[38;5;241m.\u001b[39mDataFrame(output)\n",
      "\u001b[1;31mValueError\u001b[0m: max() iterable argument is empty"
     ]
    }
   ],
   "source": [
    "data_dict = extract_paths(data)\n",
    "\n",
    "# if data_dict[0].get(\"category\") == 'bestsellers':\n",
    "#     data_dict.pop(0)"
   ]
  },
  {
   "cell_type": "code",
   "execution_count": null,
   "metadata": {},
   "outputs": [],
   "source": []
  }
 ],
 "metadata": {
  "kernelspec": {
   "display_name": "venv_scrapy_amazon",
   "language": "python",
   "name": "python3"
  },
  "language_info": {
   "codemirror_mode": {
    "name": "ipython",
    "version": 3
   },
   "file_extension": ".py",
   "mimetype": "text/x-python",
   "name": "python",
   "nbconvert_exporter": "python",
   "pygments_lexer": "ipython3",
   "version": "3.12.9"
  }
 },
 "nbformat": 4,
 "nbformat_minor": 2
}
