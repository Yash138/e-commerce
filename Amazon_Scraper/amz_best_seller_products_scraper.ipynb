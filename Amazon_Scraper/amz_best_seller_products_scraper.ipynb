{
 "cells": [
  {
   "cell_type": "markdown",
   "metadata": {},
   "source": [
    "'''\n",
    "    1. get the url of products from best seller table\n",
    "    2. \n",
    "'''"
   ]
  },
  {
   "cell_type": "code",
   "execution_count": 16,
   "metadata": {},
   "outputs": [],
   "source": [
    "from selenium import webdriver\n",
    "from selenium.webdriver.chrome.service import Service\n",
    "# import from webdriver_manager (using underscore)\n",
    "from webdriver_manager.chrome import ChromeDriverManager \n",
    "from selenium.webdriver.common.by import By\n",
    "from selenium.webdriver.support.ui import WebDriverWait as wait\n",
    "from selenium.webdriver.support import expected_conditions as EC\n",
    "from common.util import SQLServerExpress"
   ]
  },
  {
   "cell_type": "code",
   "execution_count": 15,
   "metadata": {},
   "outputs": [
    {
     "name": "stdout",
     "output_type": "stream",
     "text": [
      "Connection established successfully.\n",
      "Connection closed.\n"
     ]
    }
   ],
   "source": [
    "db = SQLServerExpress(estd_conn=True)\n",
    "recs = db.fetch_all(\"select * from processed.amz__best_sellers where isLatest = 1\")\n",
    "table_details = db.fetch_all(\"select * from information_schema.columns where table_name = 'amz__best_sellers'\")\n",
    "db.close()"
   ]
  },
  {
   "cell_type": "code",
   "execution_count": 17,
   "metadata": {},
   "outputs": [],
   "source": [
    "options = webdriver.ChromeOptions()\n",
    "options.add_argument('--headless')\n",
    "driver = webdriver.Chrome(options=options, service=Service(ChromeDriverManager().install()))"
   ]
  },
  {
   "cell_type": "code",
   "execution_count": 28,
   "metadata": {},
   "outputs": [
    {
     "name": "stdout",
     "output_type": "stream",
     "text": [
      "https://www.amazon.in/SOFTSPUN-Microfiber-Cleaning-Detailing-Polishing/dp/B077BFH786/ref=zg_bs_g_automotive_d_sccl_1/260-6977710-9948041?psc=1\n",
      "10K+ bought in past month\n",
      "4.3\n",
      "92,767 ratings\n",
      "https://www.amazon.in/SOFTSPUN-Microfiber-Cleaning-Detailing-Polishing/product-reviews/B077BFH786/ref=cm_cr_dp_d_show_all_btm?ie=UTF8&reviewerType=all_reviews\n",
      "Visit the SOFTSPUN Store\n",
      "https://www.amazon.in/stores/Softspun/page/D24C9885-78C1-4281-B59E-CB7F5525343F?ref_=ast_bln&store_ref=bl_ast_dp_brandLogo_sto\n",
      "299\n",
      "₹604\n"
     ]
    }
   ],
   "source": [
    "\n",
    "\n",
    "for rec in recs:\n",
    "    data = {d[3]:rec[i] for i,d in enumerate(table_details)}\n",
    "    print(data['ProductUrl'])\n",
    "    driver.get(data['ProductUrl'])\n",
    "    rating = driver.find_element(By.XPATH, '//*[@id=\"averageCustomerReviews\"]/span[1]/span[1]/span/a/span').text\n",
    "    reviews_count = driver.find_element(By.XPATH, '//*[@id=\"averageCustomerReviews\"]/span[3]/a/span').text\n",
    "    reviews_url = driver.find_element(By.XPATH, '//*[contains(@class, \"FocalReviews\")]/div/div/div[4]/div[2]/a').get_attribute(\"href\")\n",
    "    seller_name = driver.find_element(By.XPATH, '//*[@id=\"bylineInfo_feature_div\"]/div[1]/a').text\n",
    "    seller_url = driver.find_element(By.XPATH, '//*[@id=\"bylineInfo_feature_div\"]/div[1]/a').get_attribute(\"href\")\n",
    "    sales_last_month = driver.find_element(By.XPATH, '//*[@id=\"social-proofing-faceout-title-tk_bought\"]/span').text\n",
    "    sell_price = driver.find_element(By.XPATH, '//*[contains(@id, \"corePriceDisplay\")]/div[1]/span[3]/span[2]/span[2]').text\n",
    "    sell_mrp = driver.find_element(By.XPATH, '//*[contains(@id, \"corePriceDisplay\")]/div[2]/span/span[1]/span[2]/span/span[2]').text\n",
    "    print(sales_last_month, rating, reviews_count, reviews_url, seller_name, seller_url, sell_price, sell_mrp, sep='\\n')\n",
    "    break\n"
   ]
  },
  {
   "cell_type": "code",
   "execution_count": null,
   "metadata": {},
   "outputs": [
    {
     "data": {
      "text/plain": [
       "{'ID': 1,\n",
       " 'ASIN': 'B077BFH786',\n",
       " 'Category': 'Car & Motorbike',\n",
       " 'SubCategory': '',\n",
       " 'ProductName': 'SOFTSPUN Microfiber Cloth - 4 pcs - 40x40 cms - 340 GSM Grey! Thick Lint & Streak-Free Multipurpose Cloths - Automotive Microfibre Towels for Car Bike Cleaning Polishing Washing & Detailing.…',\n",
       " 'Rank': 1,\n",
       " 'ProductUrl': 'https://www.amazon.in/SOFTSPUN-Microfiber-Cleaning-Detailing-Polishing/dp/B077BFH786/ref=zg_bs_g_automotive_d_sccl_1/260-6977710-9948041?psc=1',\n",
       " 'LoadTimestamp': datetime.datetime(2024, 11, 27, 0, 15, 19),\n",
       " 'IsLatest': True}"
      ]
     },
     "execution_count": 11,
     "metadata": {},
     "output_type": "execute_result"
    }
   ],
   "source": []
  }
 ],
 "metadata": {
  "kernelspec": {
   "display_name": "scraper",
   "language": "python",
   "name": "python3"
  },
  "language_info": {
   "codemirror_mode": {
    "name": "ipython",
    "version": 3
   },
   "file_extension": ".py",
   "mimetype": "text/x-python",
   "name": "python",
   "nbconvert_exporter": "python",
   "pygments_lexer": "ipython3",
   "version": "3.13.0"
  }
 },
 "nbformat": 4,
 "nbformat_minor": 2
}
