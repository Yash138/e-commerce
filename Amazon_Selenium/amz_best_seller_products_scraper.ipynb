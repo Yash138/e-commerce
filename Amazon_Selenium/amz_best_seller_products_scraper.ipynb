{
 "cells": [
  {
   "cell_type": "markdown",
   "metadata": {},
   "source": [
    "'''\n",
    "    1. get the url of products from best seller table\n",
    "    2. \n",
    "'''"
   ]
  },
  {
   "cell_type": "code",
   "execution_count": 23,
   "metadata": {},
   "outputs": [],
   "source": [
    "from selenium import webdriver\n",
    "from selenium.webdriver.chrome.service import Service\n",
    "# import from webdriver_manager (using underscore)\n",
    "from webdriver_manager.chrome import ChromeDriverManager \n",
    "from selenium.webdriver.common.by import By\n",
    "from selenium.webdriver.support.ui import WebDriverWait as wait\n",
    "from selenium.webdriver.support import expected_conditions as EC\n",
    "from common.util import SQLServerExpress, printArgs"
   ]
  },
  {
   "cell_type": "markdown",
   "metadata": {},
   "source": [
    "* Scrap only those products which are available in Best Seller Table but not in Products table."
   ]
  },
  {
   "cell_type": "code",
   "execution_count": 2,
   "metadata": {},
   "outputs": [
    {
     "name": "stdout",
     "output_type": "stream",
     "text": [
      "Connection established successfully.\n",
      "Connection closed.\n"
     ]
    }
   ],
   "source": [
    "db = SQLServerExpress(estd_conn=True)\n",
    "recs = db.fetch_all(\"select * from processed.amz__best_sellers where isLatest = 1\")\n",
    "table_details = db.fetch_all(\"select * from information_schema.columns where table_name = 'amz__best_sellers'\")\n",
    "db.close()"
   ]
  },
  {
   "cell_type": "code",
   "execution_count": 3,
   "metadata": {},
   "outputs": [],
   "source": [
    "options = webdriver.ChromeOptions()\n",
    "options.add_argument('--headless')\n",
    "driver = webdriver.Chrome(options=options, service=Service(ChromeDriverManager().install()))"
   ]
  },
  {
   "cell_type": "code",
   "execution_count": 24,
   "metadata": {},
   "outputs": [
    {
     "name": "stdout",
     "output_type": "stream",
     "text": [
      "https://www.amazon.in/SOFTSPUN-Microfiber-Cleaning-Detailing-Polishing/dp/B077BFH786/ref=zg_bs_g_automotive_d_sccl_1/260-6977710-9948041?psc=1\n",
      "10K+ bought in past month\n",
      "4.3\n",
      "92,797 ratings\n",
      "https://www.amazon.in/SOFTSPUN-Microfiber-Cleaning-Detailing-Polishing/product-reviews/B077BFH786/ref=cm_cr_dp_d_show_all_btm?ie=UTF8&reviewerType=all_reviews\n",
      "Visit the SOFTSPUN Store\n",
      "https://www.amazon.in/stores/Softspun/page/D24C9885-78C1-4281-B59E-CB7F5525343F?ref_=ast_bln&store_ref=bl_ast_dp_brandLogo_sto\n",
      "299\n",
      "₹604\n",
      "Exterior Car Care Microfibre Cloths\n",
      "https://www.amazon.in/gp/bestsellers/automotive/51348355031/ref=pd_zg_hrsr_automotive\n",
      "22 March 2018\n"
     ]
    }
   ],
   "source": [
    "\n",
    "\n",
    "for rec in recs:\n",
    "    data = {d[3]:rec[i] for i,d in enumerate(table_details)}\n",
    "    print(data['ProductUrl'])\n",
    "    driver.get(data['ProductUrl'])\n",
    "    rating = driver.find_element(By.XPATH, '//*[@id=\"averageCustomerReviews\"]/span[1]/span[1]/span/a/span').text\n",
    "    reviews_count = driver.find_element(By.XPATH, '//*[@id=\"averageCustomerReviews\"]/span[3]/a/span').text\n",
    "    reviews_url = driver.find_element(By.XPATH, '//*[contains(@class, \"FocalReviews\")]/div/div/div[4]/div[2]/a').get_attribute(\"href\")\n",
    "    seller_name = driver.find_element(By.XPATH, '//*[@id=\"bylineInfo_feature_div\"]/div[1]/a').text\n",
    "    seller_url = driver.find_element(By.XPATH, '//*[@id=\"bylineInfo_feature_div\"]/div[1]/a').get_attribute(\"href\")\n",
    "    sales_last_month = driver.find_element(By.XPATH, '//*[@id=\"social-proofing-faceout-title-tk_bought\"]/span').text\n",
    "    sell_price = driver.find_element(By.XPATH, '//*[contains(@id, \"corePriceDisplay\")]/div[1]/span[3]/span[2]/span[2]').text\n",
    "    sell_mrp = driver.find_element(By.XPATH, '//*[contains(@id, \"corePriceDisplay\")]/div[2]/span/span[1]/span[2]/span/span[2]').text\n",
    "    \n",
    "    xpath_bs_category = '//*[@id=\"productDetails_detailBullets_sections1\"]/tbody/tr'\n",
    "    pd = driver.find_elements(By.XPATH, xpath_bs_category)\n",
    "    for i, item in enumerate(pd):\n",
    "        # print(item.text, '\\n')\n",
    "        if \"best seller\" in item.text.lower():\n",
    "            category = item.find_element(By.XPATH, f'{xpath_bs_category}[{i+1}]/td/span/span[2]/a').text\n",
    "            category_url = item.find_element(By.XPATH, f'{xpath_bs_category}[{i+1}]/td/span/span[2]/a').get_attribute(\"href\")\n",
    "            # printArgs(category, category_url)\n",
    "        elif 'date first available' in item.text.lower():\n",
    "            listing_date = item.find_element(By.XPATH, f'{xpath_bs_category}[{i+1}]/td').text\n",
    "            # printArgs(listing_date)\n",
    "    printArgs(sales_last_month, rating, reviews_count, reviews_url, seller_name, seller_url, sell_price, sell_mrp, category, category_url, listing_date)\n",
    "    break\n"
   ]
  }
 ],
 "metadata": {
  "kernelspec": {
   "display_name": "scraper",
   "language": "python",
   "name": "python3"
  },
  "language_info": {
   "codemirror_mode": {
    "name": "ipython",
    "version": 3
   },
   "file_extension": ".py",
   "mimetype": "text/x-python",
   "name": "python",
   "nbconvert_exporter": "python",
   "pygments_lexer": "ipython3",
   "version": "3.13.0"
  }
 },
 "nbformat": 4,
 "nbformat_minor": 2
}
